{
 "cells": [
  {
   "cell_type": "markdown",
   "metadata": {},
   "source": [
    "### Часть 1\n",
    "\n",
    "Составить таблицу со значениями валют относительно USD в определенные дни"
   ]
  },
  {
   "cell_type": "code",
   "execution_count": 1,
   "metadata": {},
   "outputs": [],
   "source": [
    "%%capture\n",
    "%pip install -r requirements.txt"
   ]
  },
  {
   "cell_type": "code",
   "execution_count": 2,
   "metadata": {},
   "outputs": [
    {
     "name": "stderr",
     "output_type": "stream",
     "text": [
      "C:\\Users\\stray\\AppData\\Local\\Temp\\ipykernel_10876\\3142475634.py:2: DeprecationWarning: \n",
      "Pyarrow will become a required dependency of pandas in the next major release of pandas (pandas 3.0),\n",
      "(to allow more performant data types, such as the Arrow string type, and better interoperability with other libraries)\n",
      "but was not found to be installed on your system.\n",
      "If this would cause problems for you,\n",
      "please provide us feedback at https://github.com/pandas-dev/pandas/issues/54466\n",
      "        \n",
      "  import pandas as pd\n"
     ]
    }
   ],
   "source": [
    "import requests\n",
    "import pandas as pd\n",
    "import os\n",
    "import typing\n",
    "from datetime import date, timedelta\n",
    "from dotenv import load_dotenv\n",
    "from itertools import islice\n",
    "\n",
    "load_dotenv()\n",
    "\n",
    "KEY = os.getenv(\"API_KEY\") # ключ в лежит .env, чтобы не раскрывать его в публичном репо"
   ]
  },
  {
   "cell_type": "code",
   "execution_count": 3,
   "metadata": {},
   "outputs": [],
   "source": [
    "def get_historical_rate(historical_date: date) -> dict:\n",
    "    \"\"\"Получить исторические данные значений валют относительно USD\"\"\"\n",
    "    \n",
    "    if historical_date >= date.today():\n",
    "        raise ValueError(\"Дата должна быть раньше сегодня\")\n",
    "    \n",
    "    # если бы какие-то еще эндпоинты использовали, то имело смысл бы отдельный клиент сделать как класс, чтобы не повторять код\n",
    "    # но тут незачем выдумывать, поэтому запрос прямо тут собран\n",
    "    headers= {\"apikey\": KEY}\n",
    "    url = \"https://api.apilayer.com/currency_data/historical\"\n",
    "    params = {\n",
    "        \"date\": str(historical_date)\n",
    "    }\n",
    "    r = requests.get(url=url, params=params, headers=headers)\n",
    "    return r.json()"
   ]
  },
  {
   "cell_type": "code",
   "execution_count": 4,
   "metadata": {},
   "outputs": [],
   "source": [
    "# рецепт из https://docs.python.org/3/library/itertools.html\n",
    "def take(n: int, iterable: typing.Iterable) -> list:\n",
    "    \"Return first n items of the iterable as a list.\"\n",
    "    return list(islice(iterable, n))"
   ]
  },
  {
   "cell_type": "code",
   "execution_count": 5,
   "metadata": {},
   "outputs": [],
   "source": [
    "def get_date_range(start: date, end: date) -> list[date]:\n",
    "    \"\"\"Получить список дней в отрезке [start, end]\"\"\"\n",
    "    return [start + timedelta(days=step) for step in range((end - start).days + 1)]"
   ]
  },
  {
   "cell_type": "code",
   "execution_count": 6,
   "metadata": {},
   "outputs": [],
   "source": [
    "dates = get_date_range(date(2022, 1, 1), date(2022, 1, 7))\n",
    "rates = [get_historical_rate(d) for d in dates]"
   ]
  },
  {
   "cell_type": "code",
   "execution_count": 7,
   "metadata": {},
   "outputs": [],
   "source": [
    "# выделение значений первых 10 валют относительно USD\n",
    "first_ten_rates = [dict(zip(take(10, rate[\"quotes\"]), take(10, rate[\"quotes\"].values()))) for rate in rates] "
   ]
  },
  {
   "cell_type": "code",
   "execution_count": 8,
   "metadata": {},
   "outputs": [],
   "source": [
    "data = {str(d): r for d, r in zip(dates, first_ten_rates)}"
   ]
  },
  {
   "cell_type": "code",
   "execution_count": 32,
   "metadata": {},
   "outputs": [
    {
     "data": {
      "text/html": [
       "<div>\n",
       "<style scoped>\n",
       "    .dataframe tbody tr th:only-of-type {\n",
       "        vertical-align: middle;\n",
       "    }\n",
       "\n",
       "    .dataframe tbody tr th {\n",
       "        vertical-align: top;\n",
       "    }\n",
       "\n",
       "    .dataframe thead th {\n",
       "        text-align: right;\n",
       "    }\n",
       "</style>\n",
       "<table border=\"1\" class=\"dataframe\">\n",
       "  <thead>\n",
       "    <tr style=\"text-align: right;\">\n",
       "      <th></th>\n",
       "      <th>USDAED</th>\n",
       "      <th>USDAFN</th>\n",
       "      <th>USDALL</th>\n",
       "      <th>USDAMD</th>\n",
       "      <th>USDANG</th>\n",
       "      <th>USDAOA</th>\n",
       "      <th>USDARS</th>\n",
       "      <th>USDAUD</th>\n",
       "      <th>USDAWG</th>\n",
       "      <th>USDAZN</th>\n",
       "    </tr>\n",
       "    <tr>\n",
       "      <th>Date</th>\n",
       "      <th></th>\n",
       "      <th></th>\n",
       "      <th></th>\n",
       "      <th></th>\n",
       "      <th></th>\n",
       "      <th></th>\n",
       "      <th></th>\n",
       "      <th></th>\n",
       "      <th></th>\n",
       "      <th></th>\n",
       "    </tr>\n",
       "  </thead>\n",
       "  <tbody>\n",
       "    <tr>\n",
       "      <th>2022-01-01</th>\n",
       "      <td>3.673042</td>\n",
       "      <td>103.750404</td>\n",
       "      <td>106.650403</td>\n",
       "      <td>480.234325</td>\n",
       "      <td>1.802591</td>\n",
       "      <td>550.590403</td>\n",
       "      <td>102.689974</td>\n",
       "      <td>1.375800</td>\n",
       "      <td>1.8000</td>\n",
       "      <td>1.703970</td>\n",
       "    </tr>\n",
       "    <tr>\n",
       "      <th>2022-01-02</th>\n",
       "      <td>3.672980</td>\n",
       "      <td>103.749983</td>\n",
       "      <td>106.650326</td>\n",
       "      <td>480.234325</td>\n",
       "      <td>1.802591</td>\n",
       "      <td>550.590435</td>\n",
       "      <td>102.664691</td>\n",
       "      <td>1.376179</td>\n",
       "      <td>1.8000</td>\n",
       "      <td>1.698647</td>\n",
       "    </tr>\n",
       "    <tr>\n",
       "      <th>2022-01-03</th>\n",
       "      <td>3.673103</td>\n",
       "      <td>103.750299</td>\n",
       "      <td>106.249880</td>\n",
       "      <td>481.590005</td>\n",
       "      <td>1.802973</td>\n",
       "      <td>554.203977</td>\n",
       "      <td>102.958502</td>\n",
       "      <td>1.389502</td>\n",
       "      <td>1.8005</td>\n",
       "      <td>1.701522</td>\n",
       "    </tr>\n",
       "    <tr>\n",
       "      <th>2022-01-04</th>\n",
       "      <td>3.673096</td>\n",
       "      <td>104.899369</td>\n",
       "      <td>105.874950</td>\n",
       "      <td>482.301630</td>\n",
       "      <td>1.801500</td>\n",
       "      <td>553.427992</td>\n",
       "      <td>103.104100</td>\n",
       "      <td>1.381105</td>\n",
       "      <td>1.8000</td>\n",
       "      <td>1.698131</td>\n",
       "    </tr>\n",
       "    <tr>\n",
       "      <th>2022-01-05</th>\n",
       "      <td>3.673102</td>\n",
       "      <td>105.250158</td>\n",
       "      <td>106.902530</td>\n",
       "      <td>483.164239</td>\n",
       "      <td>1.802797</td>\n",
       "      <td>552.652983</td>\n",
       "      <td>103.102801</td>\n",
       "      <td>1.384754</td>\n",
       "      <td>1.8005</td>\n",
       "      <td>1.691373</td>\n",
       "    </tr>\n",
       "    <tr>\n",
       "      <th>2022-01-06</th>\n",
       "      <td>3.673102</td>\n",
       "      <td>104.999962</td>\n",
       "      <td>107.350118</td>\n",
       "      <td>483.038449</td>\n",
       "      <td>1.802366</td>\n",
       "      <td>551.700853</td>\n",
       "      <td>103.228600</td>\n",
       "      <td>1.395982</td>\n",
       "      <td>1.8000</td>\n",
       "      <td>1.700773</td>\n",
       "    </tr>\n",
       "    <tr>\n",
       "      <th>2022-01-07</th>\n",
       "      <td>3.673042</td>\n",
       "      <td>105.000368</td>\n",
       "      <td>107.000368</td>\n",
       "      <td>483.788207</td>\n",
       "      <td>1.802362</td>\n",
       "      <td>550.928041</td>\n",
       "      <td>103.292284</td>\n",
       "      <td>1.392651</td>\n",
       "      <td>1.8005</td>\n",
       "      <td>1.703970</td>\n",
       "    </tr>\n",
       "  </tbody>\n",
       "</table>\n",
       "</div>"
      ],
      "text/plain": [
       "              USDAED      USDAFN      USDALL      USDAMD    USDANG  \\\n",
       "Date                                                                 \n",
       "2022-01-01  3.673042  103.750404  106.650403  480.234325  1.802591   \n",
       "2022-01-02  3.672980  103.749983  106.650326  480.234325  1.802591   \n",
       "2022-01-03  3.673103  103.750299  106.249880  481.590005  1.802973   \n",
       "2022-01-04  3.673096  104.899369  105.874950  482.301630  1.801500   \n",
       "2022-01-05  3.673102  105.250158  106.902530  483.164239  1.802797   \n",
       "2022-01-06  3.673102  104.999962  107.350118  483.038449  1.802366   \n",
       "2022-01-07  3.673042  105.000368  107.000368  483.788207  1.802362   \n",
       "\n",
       "                USDAOA      USDARS    USDAUD  USDAWG    USDAZN  \n",
       "Date                                                            \n",
       "2022-01-01  550.590403  102.689974  1.375800  1.8000  1.703970  \n",
       "2022-01-02  550.590435  102.664691  1.376179  1.8000  1.698647  \n",
       "2022-01-03  554.203977  102.958502  1.389502  1.8005  1.701522  \n",
       "2022-01-04  553.427992  103.104100  1.381105  1.8000  1.698131  \n",
       "2022-01-05  552.652983  103.102801  1.384754  1.8005  1.691373  \n",
       "2022-01-06  551.700853  103.228600  1.395982  1.8000  1.700773  \n",
       "2022-01-07  550.928041  103.292284  1.392651  1.8005  1.703970  "
      ]
     },
     "execution_count": 32,
     "metadata": {},
     "output_type": "execute_result"
    }
   ],
   "source": [
    "df = pd.DataFrame.from_dict(data, orient=\"index\")\n",
    "df.index.names = [\"Date\"]\n",
    "df"
   ]
  },
  {
   "cell_type": "code",
   "execution_count": 33,
   "metadata": {},
   "outputs": [],
   "source": [
    "df.to_csv(\"result.csv\")"
   ]
  }
 ],
 "metadata": {
  "kernelspec": {
   "display_name": ".venv",
   "language": "python",
   "name": "python3"
  },
  "language_info": {
   "codemirror_mode": {
    "name": "ipython",
    "version": 3
   },
   "file_extension": ".py",
   "mimetype": "text/x-python",
   "name": "python",
   "nbconvert_exporter": "python",
   "pygments_lexer": "ipython3",
   "version": "3.12.4"
  }
 },
 "nbformat": 4,
 "nbformat_minor": 2
}
